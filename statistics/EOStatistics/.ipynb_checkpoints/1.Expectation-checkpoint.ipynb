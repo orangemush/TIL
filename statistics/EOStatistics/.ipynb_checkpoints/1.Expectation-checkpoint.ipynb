{
 "cells": [
  {
   "cell_type": "markdown",
   "id": "0da8508e-ca37-4c12-ac57-d0f648403f20",
   "metadata": {},
   "source": [
    "# 기초 통계량"
   ]
  },
  {
   "cell_type": "markdown",
   "id": "27a56415-db95-444c-bc70-221a92148193",
   "metadata": {},
   "source": [
    "<div style=\"font-size:16px; text-align:center;\"> $ X = \\{x_{1}, x_{2}, ... n\\} $ <br>\n",
    "크기가 n인 집합 X</div>"
   ]
  },
  {
   "cell_type": "markdown",
   "id": "3ff206ee-71d9-4bc0-aeba-ba31cc17f99d",
   "metadata": {},
   "source": [
    "---"
   ]
  },
  {
   "cell_type": "markdown",
   "id": "9808eae8-5eeb-4e47-86a9-2736355d8de2",
   "metadata": {},
   "source": [
    "<div style=\"text-align:center; font-size:16px;\">평균 $$ E(X) = \\frac{ \\sum_{i=1}^{n}{x_i} } { n } = m $$</div> <br>"
   ]
  },
  {
   "cell_type": "markdown",
   "id": "36c29b3e-a280-4796-bdc1-16d533ee28f2",
   "metadata": {},
   "source": [
    "---"
   ]
  },
  {
   "cell_type": "markdown",
   "id": "98cb0534-8734-4097-8782-17555ce04f97",
   "metadata": {},
   "source": [
    "<br>\n",
    "<div style=\"text-align:center; font-size:16px;\">편차(변량 - 평균)(deviation)$$x_i - m $$</div>"
   ]
  },
  {
   "cell_type": "markdown",
   "id": "f08a2af5-8c74-4a01-8543-120e835af423",
   "metadata": {},
   "source": [
    "---"
   ]
  },
  {
   "cell_type": "markdown",
   "id": "fad431bf-79bb-4f5d-a8b3-4ddf8e8a1859",
   "metadata": {},
   "source": [
    "<div style=\"font-size:16px; text-align:center;\"> 분산(모집단)(Variance) $$ E((x_i-m)^2) = \\frac{ \\sum_{i=1}^{n}{(x_i-m)^2} }{n} = V(X) = E(x^2) - m^2$$\n",
    "데이터가 평균으로부터 얼마나 떨어져 있는가 <br>\n",
    "n으로 나눴을 때엔, 모집단 분산 = $\\sigma^2 $ <br>\n",
    "n-1로 나눴을 때엔, 표본 분산 = $S^2$"
   ]
  },
  {
   "cell_type": "markdown",
   "id": "094bc840-32ef-4d00-b55b-05f5c0994fbd",
   "metadata": {},
   "source": [
    "---"
   ]
  },
  {
   "cell_type": "markdown",
   "id": "50b215af-0419-4af9-aa40-1c2d647b188e",
   "metadata": {},
   "source": [
    "<div style=\"font-size:16px; text-align:center;\"> 표준편차(standard deviation) $$ \\sigma(X) = \\sqrt{V(X)} $$"
   ]
  },
  {
   "cell_type": "code",
   "execution_count": null,
   "id": "8f8636f2-f306-4f84-b2ce-de493710d9ce",
   "metadata": {},
   "outputs": [],
   "source": []
  }
 ],
 "metadata": {
  "kernelspec": {
   "display_name": "Python 3 (ipykernel)",
   "language": "python",
   "name": "python3"
  },
  "language_info": {
   "codemirror_mode": {
    "name": "ipython",
    "version": 3
   },
   "file_extension": ".py",
   "mimetype": "text/x-python",
   "name": "python",
   "nbconvert_exporter": "python",
   "pygments_lexer": "ipython3",
   "version": "3.8.12"
  }
 },
 "nbformat": 4,
 "nbformat_minor": 5
}
