{
 "cells": [
  {
   "cell_type": "markdown",
   "id": "27a56415-db95-444c-bc70-221a92148193",
   "metadata": {},
   "source": [
    "$ X = \\{x_{1}, x_{2}, ... n\\} $ <br>\n",
    "크기가 n인 집합에서"
   ]
  },
  {
   "cell_type": "markdown",
   "id": "9808eae8-5eeb-4e47-86a9-2736355d8de2",
   "metadata": {},
   "source": [
    "<div style=\"text-align:center; font-size:16px;\">평균</div> <br>\n",
    "$$ E(x) = \\frac{ \\sum_{1}^{n}{x_i} } { n } = m $$"
   ]
  },
  {
   "cell_type": "markdown",
   "id": "98cb0534-8734-4097-8782-17555ce04f97",
   "metadata": {},
   "source": [
    "<div style=\"font-size:20px\">평균</div>"
   ]
  },
  {
   "cell_type": "code",
   "execution_count": null,
   "id": "347b5f3a-6c8f-4e22-b09f-97a7f7d4f6b8",
   "metadata": {},
   "outputs": [],
   "source": []
  }
 ],
 "metadata": {
  "kernelspec": {
   "display_name": "Python 3 (ipykernel)",
   "language": "python",
   "name": "python3"
  },
  "language_info": {
   "codemirror_mode": {
    "name": "ipython",
    "version": 3
   },
   "file_extension": ".py",
   "mimetype": "text/x-python",
   "name": "python",
   "nbconvert_exporter": "python",
   "pygments_lexer": "ipython3",
   "version": "3.8.12"
  }
 },
 "nbformat": 4,
 "nbformat_minor": 5
}
