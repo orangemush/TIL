{
 "cells": [
  {
   "cell_type": "markdown",
   "id": "5b3e64a4-2635-4c60-900f-76a527f6b6ba",
   "metadata": {},
   "source": [
    "# 불편추정량"
   ]
  },
  {
   "cell_type": "markdown",
   "id": "5a29fce0-2e9f-4520-aa11-a6ac506697c2",
   "metadata": {},
   "source": [
    "모집단의 평균: $\\mu$ <br>\n",
    "모집단의 분산: $\\sigma$\n",
    "<br><br>\n",
    "표본의 평균: $\\bar{X}$ <br>\n",
    "표본의 분산: $S$"
   ]
  },
  {
   "cell_type": "markdown",
   "id": "96e62d51-2168-4291-af3f-93ec9a49f2fd",
   "metadata": {},
   "source": [
    "모집단의 평균은 **표본 평균**의 평균을 활용하여 추정합니다. <br>\n",
    "모집단의 분산은 **표본 분산**의 평균을 활용하여 추정합니다."
   ]
  },
  {
   "cell_type": "markdown",
   "id": "adec4f64-b930-4a65-8c89-09b571db1bd9",
   "metadata": {},
   "source": [
    "이렇게 모수를 추정하는 값을 **추정량**이라고 합니다."
   ]
  },
  {
   "cell_type": "markdown",
   "id": "6091ec76-4ef9-4e4e-99af-d01125de7abe",
   "metadata": {},
   "source": [
    "추정량의 기댓값과 실제 모수와의 차이를 편의(bias)라고 합니다. <br>\n",
    "불편추정량이란 편의(bias)가 없는 추정량입니다."
   ]
  },
  {
   "cell_type": "markdown",
   "id": "a5f8fb70-9591-4e9e-963a-842b3629dcba",
   "metadata": {},
   "source": [
    "$E(\\bar{X}) = \\mu $"
   ]
  },
  {
   "cell_type": "markdown",
   "id": "148f1d89-b5dd-4fc3-885c-d33729962cdd",
   "metadata": {},
   "source": [
    "표본 평균의 평균은 모집단의 평균과 같습니다. <br>\n",
    "따라서, **표본 평균은 불편추정량**입니다."
   ]
  },
  {
   "cell_type": "markdown",
   "id": "c3ec7d24-2ec9-42a9-956f-cb57db19f85c",
   "metadata": {},
   "source": [
    "# 자유도"
   ]
  },
  {
   "cell_type": "markdown",
   "id": "e785159c-5b6c-4097-b650-56cbb99e1be0",
   "metadata": {},
   "source": [
    "자유도는 독립변수의 개수입니다."
   ]
  },
  {
   "cell_type": "code",
   "execution_count": null,
   "id": "5e6500f5-7378-4f35-8608-43c95c5d5211",
   "metadata": {},
   "outputs": [],
   "source": []
  }
 ],
 "metadata": {
  "kernelspec": {
   "display_name": "Python 3 (ipykernel)",
   "language": "python",
   "name": "python3"
  },
  "language_info": {
   "codemirror_mode": {
    "name": "ipython",
    "version": 3
   },
   "file_extension": ".py",
   "mimetype": "text/x-python",
   "name": "python",
   "nbconvert_exporter": "python",
   "pygments_lexer": "ipython3",
   "version": "3.8.12"
  }
 },
 "nbformat": 4,
 "nbformat_minor": 5
}
