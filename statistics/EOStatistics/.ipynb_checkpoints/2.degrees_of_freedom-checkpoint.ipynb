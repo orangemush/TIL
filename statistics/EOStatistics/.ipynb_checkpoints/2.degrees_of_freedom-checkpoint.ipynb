{
 "cells": [
  {
   "cell_type": "markdown",
   "id": "5b3e64a4-2635-4c60-900f-76a527f6b6ba",
   "metadata": {},
   "source": [
    "# 불편추정량"
   ]
  },
  {
   "cell_type": "markdown",
   "id": "5a29fce0-2e9f-4520-aa11-a6ac506697c2",
   "metadata": {},
   "source": [
    "모집단의 평균: $\\mu$ <br>\n",
    "모집단의 분산: $\\sigma$\n",
    "<br><br>\n",
    "표본의 평균: $\\bar{X}$ <br>\n",
    "표본의 분산: $S$"
   ]
  },
  {
   "cell_type": "markdown",
   "id": "96e62d51-2168-4291-af3f-93ec9a49f2fd",
   "metadata": {},
   "source": [
    "모집단의 평균은 **표본 평균**의 평균을 활용하여 추정합니다. <br>\n",
    "모집단의 분산은 **표본 분산**의 평균을 활용하여 추정합니다. <br>\n",
    "이렇게 모수를 추정하는 값을 **추정량**이라고 합니다."
   ]
  },
  {
   "cell_type": "markdown",
   "id": "6091ec76-4ef9-4e4e-99af-d01125de7abe",
   "metadata": {},
   "source": [
    "추정량의 기댓값과 실제 모수와의 차이를 편의(bias)라고 합니다. <br>\n",
    "불편추정량이란 편의(bias)가 없는 추정량입니다."
   ]
  },
  {
   "cell_type": "markdown",
   "id": "a5f8fb70-9591-4e9e-963a-842b3629dcba",
   "metadata": {},
   "source": [
    "$E(\\bar{X}) = \\mu $ <br>\n",
    "$E(\\bar{X})$ -> 표본 평균의 평균 <br>"
   ]
  },
  {
   "cell_type": "markdown",
   "id": "148f1d89-b5dd-4fc3-885c-d33729962cdd",
   "metadata": {},
   "source": [
    "표본 평균의 평균은 모집단의 평균과 같습니다. <br>\n",
    "따라서, **표본 평균은 불편추정량**입니다."
   ]
  },
  {
   "cell_type": "markdown",
   "id": "c3ec7d24-2ec9-42a9-956f-cb57db19f85c",
   "metadata": {},
   "source": [
    "# 자유도"
   ]
  },
  {
   "cell_type": "markdown",
   "id": "e785159c-5b6c-4097-b650-56cbb99e1be0",
   "metadata": {},
   "source": [
    "자유도는 독립변수의 개수입니다. <br>\n",
    "$ x + y + z = 0 $ \n",
    "1. x와 y의 값이 정해지면 종속적으로 z의 값이 정해집니다. <br>\n",
    "2. y와 z의 값이 정해지면 종속적으로 x의 값이 정해집니다. <br>\n",
    "3. z와 x의 값이 정해지면 종속적으로 y의 값이 정해집니다."
   ]
  },
  {
   "cell_type": "markdown",
   "id": "98a166e5-31d0-4c9e-9ca0-1f6f32678bbe",
   "metadata": {},
   "source": [
    "따라서, 독립변수가 2개이고 종속변수가 1개이므로 자유도는 2입니다."
   ]
  },
  {
   "cell_type": "markdown",
   "id": "799db30b-88e3-4864-9c52-be07ceb3b115",
   "metadata": {},
   "source": [
    "# 표본 평균의 평균이 모평균인 증명 "
   ]
  },
  {
   "cell_type": "markdown",
   "id": "cdeb93e6-34cd-4a3f-9c96-a5013ff9c2ca",
   "metadata": {},
   "source": [
    "$E(X) = \\bar{X} = \\frac{\\sum_{i=1}^{n}{x_i}} {n}$ <br>\n",
    "$E(\\bar{X}) = E(\\frac{\\sum_{i=1}^{n}{x_i}} {n})$"
   ]
  },
  {
   "cell_type": "markdown",
   "id": "9cbb07a7-041d-4541-8ce9-c7e76e4d36f5",
   "metadata": {},
   "source": [
    "$ = \\frac{1}{n}E(x_1 + x_2 + \\dots + x_n) $"
   ]
  },
  {
   "cell_type": "markdown",
   "id": "78aa7238-d8e7-45c2-bd29-b1e93955fada",
   "metadata": {},
   "source": [
    "$ \\frac{1}{n}(\\lim_{n \\to \\infty} E(x_1) + E(x_2) + \\dots + E(x_n)) $"
   ]
  },
  {
   "cell_type": "markdown",
   "id": "97782c9f-c4da-4247-b227-99aae44b36e8",
   "metadata": {},
   "source": [
    "큰 수의 법칙에 의해 표본평균 $\\bar{X}$를 충분히 큰 수 n만큼 곱했을 경우, <br>\n",
    "$ n*\\bar{X} = n\\mu$ <br>\n",
    "따라서,"
   ]
  },
  {
   "cell_type": "markdown",
   "id": "c2134ae6-a49d-4bfa-9cdf-2bfa6119465a",
   "metadata": {},
   "source": [
    "$\\frac{n\\mu}{n} = \\mu$"
   ]
  },
  {
   "cell_type": "markdown",
   "id": "2fbf683e-562a-47f8-82dc-c41e4d6109da",
   "metadata": {},
   "source": []
  },
  {
   "cell_type": "code",
   "execution_count": null,
   "id": "78935cdd-aafd-4ae6-b463-b10ca2609db7",
   "metadata": {},
   "outputs": [],
   "source": []
  },
  {
   "cell_type": "code",
   "execution_count": null,
   "id": "974db91b-c365-4838-8a35-228b958e3e51",
   "metadata": {},
   "outputs": [],
   "source": []
  },
  {
   "cell_type": "markdown",
   "id": "08a60b39-681f-4a76-a62b-b9cabe9abb3f",
   "metadata": {},
   "source": [
    "# 표본 분산의 평균이 모분산인 증명"
   ]
  },
  {
   "cell_type": "code",
   "execution_count": null,
   "id": "bfaded05-f157-419e-a622-1961633673cd",
   "metadata": {},
   "outputs": [],
   "source": []
  }
 ],
 "metadata": {
  "kernelspec": {
   "display_name": "Python 3 (ipykernel)",
   "language": "python",
   "name": "python3"
  },
  "language_info": {
   "codemirror_mode": {
    "name": "ipython",
    "version": 3
   },
   "file_extension": ".py",
   "mimetype": "text/x-python",
   "name": "python",
   "nbconvert_exporter": "python",
   "pygments_lexer": "ipython3",
   "version": "3.8.12"
  }
 },
 "nbformat": 4,
 "nbformat_minor": 5
}
