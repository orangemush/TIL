{
 "cells": [
  {
   "cell_type": "markdown",
   "id": "36d81541-eeba-4740-a668-4631f250584b",
   "metadata": {},
   "source": [
    "# 테일러 급수"
   ]
  },
  {
   "cell_type": "code",
   "execution_count": null,
   "id": "31323c00-f294-4740-810a-b97aea887d87",
   "metadata": {},
   "outputs": [],
   "source": []
  }
 ],
 "metadata": {
  "kernelspec": {
   "display_name": "Python 3 (ipykernel)",
   "language": "python",
   "name": "python3"
  },
  "language_info": {
   "codemirror_mode": {
    "name": "ipython",
    "version": 3
   },
   "file_extension": ".py",
   "mimetype": "text/x-python",
   "name": "python",
   "nbconvert_exporter": "python",
   "pygments_lexer": "ipython3",
   "version": "3.8.12"
  }
 },
 "nbformat": 4,
 "nbformat_minor": 5
}
