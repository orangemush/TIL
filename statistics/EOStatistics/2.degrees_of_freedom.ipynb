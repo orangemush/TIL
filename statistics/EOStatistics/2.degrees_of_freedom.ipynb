{
 "cells": [
  {
   "cell_type": "markdown",
   "id": "5b3e64a4-2635-4c60-900f-76a527f6b6ba",
   "metadata": {},
   "source": [
    "# 불편추정량"
   ]
  },
  {
   "cell_type": "markdown",
   "id": "5a29fce0-2e9f-4520-aa11-a6ac506697c2",
   "metadata": {},
   "source": [
    "모집단의 평균: $\\mu$ <br>\n",
    "모집단의 분산: $\\sigma$\n",
    "<br><br>\n",
    "표본의 평균: $\\bar{X}$ <br>\n",
    "표본의 분산: $S$"
   ]
  },
  {
   "cell_type": "markdown",
   "id": "96e62d51-2168-4291-af3f-93ec9a49f2fd",
   "metadata": {},
   "source": [
    "모집단의 평균은 **표본 평균**의 평균을 활용하여 추정합니다. <br>\n",
    "모집단의 분산은 **표본 분산**의 평균을 활용하여 추정합니다. <br>\n",
    "이렇게 모수를 추정하는 값을 **추정량**이라고 합니다."
   ]
  },
  {
   "cell_type": "markdown",
   "id": "6091ec76-4ef9-4e4e-99af-d01125de7abe",
   "metadata": {},
   "source": [
    "추정량의 기댓값과 실제 모수와의 차이를 편의(bias)라고 합니다. <br>\n",
    "불편추정량이란 편의(bias)가 없는 추정량입니다."
   ]
  },
  {
   "cell_type": "markdown",
   "id": "a5f8fb70-9591-4e9e-963a-842b3629dcba",
   "metadata": {},
   "source": [
    "$E(\\bar{X}) = \\mu $ <br>\n",
    "$E(\\bar{X})$ -> 표본 평균의 평균 <br>"
   ]
  },
  {
   "cell_type": "markdown",
   "id": "148f1d89-b5dd-4fc3-885c-d33729962cdd",
   "metadata": {},
   "source": [
    "표본 평균의 평균은 모집단의 평균과 같습니다. <br>\n",
    "따라서, **표본 평균은 불편추정량**입니다."
   ]
  },
  {
   "cell_type": "markdown",
   "id": "c3ec7d24-2ec9-42a9-956f-cb57db19f85c",
   "metadata": {},
   "source": [
    "# 자유도"
   ]
  },
  {
   "cell_type": "markdown",
   "id": "e785159c-5b6c-4097-b650-56cbb99e1be0",
   "metadata": {},
   "source": [
    "자유도는 독립변수의 개수입니다. <br>\n",
    "$ x + y + z = 0 $ \n",
    "1. x와 y의 값이 정해지면 종속적으로 z의 값이 정해집니다. <br>\n",
    "2. y와 z의 값이 정해지면 종속적으로 x의 값이 정해집니다. <br>\n",
    "3. z와 x의 값이 정해지면 종속적으로 y의 값이 정해집니다."
   ]
  },
  {
   "cell_type": "markdown",
   "id": "98a166e5-31d0-4c9e-9ca0-1f6f32678bbe",
   "metadata": {},
   "source": [
    "따라서, 독립변수가 2개이고 종속변수가 1개이므로 자유도는 2입니다."
   ]
  },
  {
   "cell_type": "markdown",
   "id": "24283356-5d58-4655-bd66-6d4de1522878",
   "metadata": {},
   "source": [
    "---"
   ]
  },
  {
   "cell_type": "markdown",
   "id": "799db30b-88e3-4864-9c52-be07ceb3b115",
   "metadata": {},
   "source": [
    "# 표본 평균의 평균이 모평균인 증명 "
   ]
  },
  {
   "cell_type": "markdown",
   "id": "cdeb93e6-34cd-4a3f-9c96-a5013ff9c2ca",
   "metadata": {},
   "source": [
    "$E(X) = \\bar{X} = \\frac{\\sum_{i=1}^{n}{x_i}} {n}$ <br>\n",
    "$E(\\bar{X}) = E(\\frac{\\sum_{i=1}^{n}{x_i}} {n})$"
   ]
  },
  {
   "cell_type": "markdown",
   "id": "9cbb07a7-041d-4541-8ce9-c7e76e4d36f5",
   "metadata": {},
   "source": [
    "$ = \\frac{1}{n}E(x_1 + x_2 + \\dots + x_n) $"
   ]
  },
  {
   "cell_type": "markdown",
   "id": "78aa7238-d8e7-45c2-bd29-b1e93955fada",
   "metadata": {},
   "source": [
    "$ \\frac{1}{n}(\\lim_{n \\to \\infty} E(x_1) + E(x_2) + \\dots + E(x_n)) $"
   ]
  },
  {
   "cell_type": "markdown",
   "id": "97782c9f-c4da-4247-b227-99aae44b36e8",
   "metadata": {},
   "source": [
    "큰 수의 법칙에 의해 표본평균 $\\bar{X}$를 충분히 큰 수 n만큼 곱했을 경우, <br>\n",
    "$ n*\\bar{X} = n\\mu$ <br>\n",
    "따라서,"
   ]
  },
  {
   "cell_type": "markdown",
   "id": "c2134ae6-a49d-4bfa-9cdf-2bfa6119465a",
   "metadata": {},
   "source": [
    "$\\frac{n\\mu}{n} = \\mu$"
   ]
  },
  {
   "cell_type": "markdown",
   "id": "2fbf683e-562a-47f8-82dc-c41e4d6109da",
   "metadata": {},
   "source": [
    "---"
   ]
  },
  {
   "cell_type": "markdown",
   "id": "08a60b39-681f-4a76-a62b-b9cabe9abb3f",
   "metadata": {},
   "source": [
    "# 표본 분산의 기댓값이 모분산인 증명"
   ]
  },
  {
   "cell_type": "markdown",
   "id": "0af39274-4269-46c1-acd6-a3c0593ca1bd",
   "metadata": {},
   "source": [
    "$ S^2 = \\frac{\\sum_{i=1}^{n}{(x_i-\\bar{x})^2}} {n-1} $"
   ]
  },
  {
   "cell_type": "markdown",
   "id": "5e6774ec-35b5-4285-8f4e-17ecf9369a80",
   "metadata": {
    "tags": []
   },
   "source": [
    "$E(S^2) = E(\\frac{\\sum_{i=1}^{n}{(x_i-\\bar{x})^2}} {n-1})$"
   ]
  },
  {
   "cell_type": "markdown",
   "id": "888ccb7c-22f8-478c-a2b0-e608a6b4e869",
   "metadata": {},
   "source": [
    "$ = \\frac{1}{n-1}E(\\sum_{i=1}^{n}{(x_i-\\bar{x})^2})$"
   ]
  },
  {
   "cell_type": "markdown",
   "id": "c7f6cb82-ae3e-4252-9970-e2e804daf647",
   "metadata": {},
   "source": [
    "증명을 유도하기 위하여 $\\mu$를 빼고 더해줄 것입니다. <br>\n",
    "$ = \\frac{1}{n-1}E(\\sum_{i=1}^{n}{(x_i-\\mu+\\mu-\\bar{x})^2})$"
   ]
  },
  {
   "cell_type": "markdown",
   "id": "96bc2bf2-a55b-4a0f-9e65-e6effd693636",
   "metadata": {},
   "source": [
    "여기서 $x_i-\\mu$와 $\\mu - \\bar{x}$ 두 덩이로 생각하여 전개하겠습니다. <br>\n",
    "$ = \\frac{1}{n-1}E[\\sum_{i=1}^{n} \\{(x_i-\\mu)^2 + {2(x_i-\\bar{x}) (\\mu-\\bar{x}) + (\\mu-\\bar{x})^2 }\\}]$"
   ]
  },
  {
   "cell_type": "markdown",
   "id": "d97c4674-e185-49e1-8b43-e8b136dcbc9d",
   "metadata": {},
   "source": [
    "여기서 시그마에 걸리는 항(i 숫자가 들어간 항)은 시그마 처리를, <br>\n",
    "시그마에 걸리지 않은 항은 상수항 처리 하여 밖으로 빼줍니다. <br>\n",
    "마지막 항은 n을 곱해주는데요, 시그마에 영향을 받아 n만큼 곱해주어 시그마 밖으로 빼줍니다.<br>\n",
    "$ = \\frac{1}{n-1}E[\\sum_{i=1}^{n} (x_i-\\mu)^2 + 2(\\mu-\\bar{x}) \\sum_{i=1}^{n}{(x_i-\\bar{x}) + n(\\mu-\\bar{x})^2 }]$"
   ]
  },
  {
   "cell_type": "markdown",
   "id": "e44884cd-9bb2-4d31-b9a9-a24a4b88b473",
   "metadata": {},
   "source": [
    "여기서, 표본 평균의 정의인 $n\\bar{X} = \\sum_{i=1}^{n} {x_i}$ 를 활용하여 <br>\n",
    "$\\sum_{i=1}^{n} ({x_i-\\bar{x}}) = n\\bar{X} - n\\mu = n(\\bar{X} - \\mu) $ <br>\n",
    "따라서,"
   ]
  },
  {
   "cell_type": "markdown",
   "id": "48f2094b-cccd-4365-a239-0576aaf3bcc4",
   "metadata": {},
   "source": [
    "$ = \\frac{1}{n-1}E[\\sum_{i=1}^{n} (x_i-\\mu)^2 + 2n (\\mu-\\bar{x})^2 + n(\\mu-\\bar{x})^2]$"
   ]
  },
  {
   "cell_type": "markdown",
   "id": "455f2c50-c2a7-445e-b912-24c4dc04d41e",
   "metadata": {},
   "source": [
    "계산 할 수 있는 부분은 계산 해보죠. <br>\n",
    "제곱이기 때문에 $\\mu - \\bar{x}$의 순서를 바꿔도 됩니다."
   ]
  },
  {
   "cell_type": "markdown",
   "id": "41109998-85bc-4a74-9110-e40314a0be61",
   "metadata": {},
   "source": [
    "$ = \\frac{1}{n-1}E[\\sum_{i=1}^{n} (x_i-\\mu)^2 - n(\\bar{x} - \\mu)^2]$"
   ]
  },
  {
   "cell_type": "markdown",
   "id": "e5fa9e65-9444-48dd-8a80-7b6d9386e2b5",
   "metadata": {},
   "source": [
    "$ = \\frac{1}{n-1}[E(\\sum_{i=1}^{n} (x_i-\\mu)^2) - nE((\\bar{x} - \\mu)^2)]$ <br>\n",
    "$ E((\\bar{x} - \\mu)^2)$는 표본평균을 사용한 편차제곱의 평균이므로 **표본평균의 분산**입니다. <br>\n",
    "또한, **모분산(표본평균의 분산)** = $\\frac{\\sigma^2}{n}$ 입니다. <br>"
   ]
  },
  {
   "cell_type": "markdown",
   "id": "f005aa62-154d-4cfb-85f9-a7562bdb458e",
   "metadata": {},
   "source": [
    "여기선 위의 정의를 활용하여 <br>\n",
    "$-n \\times \\frac{\\sigma^2}{n} = -\\sigma^2$ <br>\n",
    "위와 같이 나타낼 수 있습니다."
   ]
  },
  {
   "cell_type": "markdown",
   "id": "9ff7cb25-006b-497f-a146-5d3e8e57ee4d",
   "metadata": {},
   "source": [
    "$E(\\sum_{i=1}^{n} (x_i-\\mu)^2)$ <br>\n",
    "$ = E((x_1 - \\mu)^2) + E((x_2 - \\mu)^2) + \\dots + E((x_n - \\mu)^2)$"
   ]
  },
  {
   "cell_type": "markdown",
   "id": "a0332182-4d9c-4a1c-85e7-b9d3e806a2fd",
   "metadata": {},
   "source": [
    "각각의 항은 편차제곱의 평균, 즉 표본분산이므로 <br>\n",
    "이 때, $x_n$은 크기가 1입니다. <br>\n",
    "오른쪽과 같이 기댓값을 구할 때의 $x_i$는 값 하나입니다. $ E(X) = \\frac{ \\sum_{i=1}^{n}{x_i} } { n }$ <br>\n",
    "따라서, **크기가 1인(n=1) 표본의 분산 = 표본평균의 분산(모분산)** 이라고 볼 수 있습니다. <br>\n",
    "그리고 표본평균의 분산 식인 $\\frac{\\sigma^2}{n}$에 따라서 <br>\n",
    "각 항은 n이 1이기 때문에 $\\sigma^2$이며, n개의 항의 총합이기 때문에 <br>\n",
    "$n\\sigma^2$로 표현이 가능합니다."
   ]
  },
  {
   "cell_type": "markdown",
   "id": "581f5133-ae37-4c61-a9a6-dd5466ab9b2e",
   "metadata": {},
   "source": [
    "$ = \\frac{1}{n-1}[E(\\sum_{i=1}^{n} (x_i-\\mu)^2) - nE((\\bar{x} - \\mu)^2)]$"
   ]
  },
  {
   "cell_type": "markdown",
   "id": "1bbb41fc-be81-4cab-83b7-b74c0bff5f23",
   "metadata": {},
   "source": [
    "$ = \\frac{1}{n-1} (n\\sigma^2 -\\sigma^2)$ <br>\n",
    "$ = \\frac{1}{n-1} (n-1)\\sigma^2$ <br>\n",
    "$ = \\sigma^2 $"
   ]
  },
  {
   "cell_type": "markdown",
   "id": "c1bdea2f-6795-4b5b-8f1f-78fb7928c671",
   "metadata": {},
   "source": [
    "**따라서 표본 분산의 평균은 모분산과 같다.**"
   ]
  }
 ],
 "metadata": {
  "kernelspec": {
   "display_name": "Python 3 (ipykernel)",
   "language": "python",
   "name": "python3"
  },
  "language_info": {
   "codemirror_mode": {
    "name": "ipython",
    "version": 3
   },
   "file_extension": ".py",
   "mimetype": "text/x-python",
   "name": "python",
   "nbconvert_exporter": "python",
   "pygments_lexer": "ipython3",
   "version": "3.8.12"
  }
 },
 "nbformat": 4,
 "nbformat_minor": 5
}
