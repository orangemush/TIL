{
 "cells": [
  {
   "cell_type": "markdown",
   "id": "27a56415-db95-444c-bc70-221a92148193",
   "metadata": {},
   "source": [
    "$ X = \\{x_{1}, x_{2}, ... n\\} $ <br>\n",
    "크기가 n인 집합 X"
   ]
  },
  {
   "cell_type": "markdown",
   "id": "9808eae8-5eeb-4e47-86a9-2736355d8de2",
   "metadata": {},
   "source": [
    "<div style=\"text-align:center; font-size:16px;\">평균</div> <br>\n",
    "$$ E(x) = \\frac{ \\sum_{1}^{n}{x_i} } { n } = m $$"
   ]
  },
  {
   "cell_type": "markdown",
   "id": "98cb0534-8734-4097-8782-17555ce04f97",
   "metadata": {},
   "source": [
    "<br>\n",
    "<div style=\"text-align:center; font-size:16px;\">편차(변량 - 평균)</div> <br>"
   ]
  },
  {
   "cell_type": "markdown",
   "id": "34912d84-9d83-4e70-98a0-f2c59f2ad55b",
   "metadata": {},
   "source": [
    "$$x_i - m $$"
   ]
  },
  {
   "cell_type": "code",
   "execution_count": null,
   "id": "16f88d04-c461-4495-bc34-068f169f335a",
   "metadata": {},
   "outputs": [],
   "source": []
  }
 ],
 "metadata": {
  "kernelspec": {
   "display_name": "Python 3 (ipykernel)",
   "language": "python",
   "name": "python3"
  },
  "language_info": {
   "codemirror_mode": {
    "name": "ipython",
    "version": 3
   },
   "file_extension": ".py",
   "mimetype": "text/x-python",
   "name": "python",
   "nbconvert_exporter": "python",
   "pygments_lexer": "ipython3",
   "version": "3.8.12"
  }
 },
 "nbformat": 4,
 "nbformat_minor": 5
}
