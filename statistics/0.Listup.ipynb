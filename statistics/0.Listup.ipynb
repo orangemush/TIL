{
 "cells": [
  {
   "cell_type": "markdown",
   "id": "8b330489-722d-406e-af2a-19a042ff21dc",
   "metadata": {},
   "source": [
    "- 통계적 인과추론 방법론\n",
    "- 테일러 급수 증명 \n",
    "- 정규 분포"
   ]
  },
  {
   "cell_type": "code",
   "execution_count": null,
   "id": "61eff0dd-69af-42be-b3cb-fc726c6249f8",
   "metadata": {},
   "outputs": [],
   "source": []
  }
 ],
 "metadata": {
  "kernelspec": {
   "display_name": "Python 3 (ipykernel)",
   "language": "python",
   "name": "python3"
  },
  "language_info": {
   "codemirror_mode": {
    "name": "ipython",
    "version": 3
   },
   "file_extension": ".py",
   "mimetype": "text/x-python",
   "name": "python",
   "nbconvert_exporter": "python",
   "pygments_lexer": "ipython3",
   "version": "3.8.12"
  }
 },
 "nbformat": 4,
 "nbformat_minor": 5
}
