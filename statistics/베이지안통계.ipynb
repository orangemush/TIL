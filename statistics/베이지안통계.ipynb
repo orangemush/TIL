{
 "cells": [
  {
   "cell_type": "markdown",
   "id": "1d184636-069d-47a3-85ac-5ea4bd220baf",
   "metadata": {},
   "source": [
    "참고 자료 https://theeluwin.postype.com/post/6001466"
   ]
  },
  {
   "cell_type": "code",
   "execution_count": null,
   "id": "04a7c52b-edc4-4437-9dcd-e61b8765a37a",
   "metadata": {},
   "outputs": [],
   "source": []
  }
 ],
 "metadata": {
  "kernelspec": {
   "display_name": "Python 3 (ipykernel)",
   "language": "python",
   "name": "python3"
  },
  "language_info": {
   "codemirror_mode": {
    "name": "ipython",
    "version": 3
   },
   "file_extension": ".py",
   "mimetype": "text/x-python",
   "name": "python",
   "nbconvert_exporter": "python",
   "pygments_lexer": "ipython3",
   "version": "3.8.12"
  }
 },
 "nbformat": 4,
 "nbformat_minor": 5
}
