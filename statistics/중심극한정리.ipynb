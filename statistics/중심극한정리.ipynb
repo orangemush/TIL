{
 "cells": [
  {
   "cell_type": "markdown",
   "id": "deb68eb8-6e89-4af8-897c-a10026aff500",
   "metadata": {},
   "source": [
    "# 라이브러리 설정"
   ]
  },
  {
   "cell_type": "code",
   "execution_count": 1,
   "id": "903852bd-a5b2-4f6e-8362-a3d2b97b3c6a",
   "metadata": {},
   "outputs": [],
   "source": [
    "import matplotlib.pyplot as plt"
   ]
  },
  {
   "cell_type": "markdown",
   "id": "a089b6e9-10c5-4b3f-8cc8-14cecbd5a5f3",
   "metadata": {},
   "source": [
    "# 중심극한 정리"
   ]
  },
  {
   "cell_type": "code",
   "execution_count": 11,
   "id": "486eb2c6-936b-463e-85ef-4c31dab78738",
   "metadata": {},
   "outputs": [
    {
     "data": {
      "image/png": "[encoded data removed]",
      "text/plain": [
       "<Figure size 432x288 with 1 Axes>"
      ]
     },
     "metadata": {},
     "output_type": "display_data"
    }
   ],
   "source": [
    "ax = plt.subplot()\n",
    "ax.pie(x=[1], labels=[\"\"])\n",
    "\n",
    "plt.title(\"Population\")\n",
    "plt.show()"
   ]
  },
  {
   "cell_type": "markdown",
   "id": "d7af972e-468d-4f98-ad12-4db953e49747",
   "metadata": {},
   "source": [
    "**모집단의 표본에 상관없이** <br>\n",
    "표본의 크기 n이 커질수록 <br>\n",
    "표본평균 $\\bar{X}$의 분포가 <br>\n",
    "**정규분포에 가까워진다.**"
   ]
  }
 ],
 "metadata": {
  "kernelspec": {
   "display_name": "Python 3 (ipykernel)",
   "language": "python",
   "name": "python3"
  },
  "language_info": {
   "codemirror_mode": {
    "name": "ipython",
    "version": 3
   },
   "file_extension": ".py",
   "mimetype": "text/x-python",
   "name": "python",
   "nbconvert_exporter": "python",
   "pygments_lexer": "ipython3",
   "version": "3.8.12"
  }
 },
 "nbformat": 4,
 "nbformat_minor": 5
}
