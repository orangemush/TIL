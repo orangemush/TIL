{
 "cells": [
  {
   "cell_type": "markdown",
   "id": "2319dd2e-c147-4a5a-a7ae-42809bc0a2c8",
   "metadata": {},
   "source": [
    "# 표본 평균의 평균이 모평균인 증명 "
   ]
  },
  {
   "cell_type": "markdown",
   "id": "f4cd262f-3545-4f90-b67e-0ab73a1752f0",
   "metadata": {},
   "source": [
    "$E(X) = \\bar{X} = \\frac{\\sum_{i=1}^{n}{x_i}} {n}$ <br>\n",
    "$E(\\bar{X}) = E(\\frac{\\sum_{i=1}^{n}{x_i}} {n})$"
   ]
  },
  {
   "cell_type": "markdown",
   "id": "1a3c4f8f-a962-4909-ae5a-0cb892ba262f",
   "metadata": {},
   "source": [
    "$ = \\frac{1}{n}E(x_1 + x_2 + \\dots + x_n) $"
   ]
  },
  {
   "cell_type": "markdown",
   "id": "7095e00a-d69b-4a83-b512-7ca8aba8553e",
   "metadata": {},
   "source": [
    "$ \\frac{1}{n}(\\lim_{n \\to \\infty} E(x_1) + E(x_2) + \\dots + E(x_n)) $"
   ]
  },
  {
   "cell_type": "markdown",
   "id": "ffe8eb37-f010-4662-94e8-f2855c7966f1",
   "metadata": {},
   "source": [
    "$E(x_1)$에서나 $E(x_n)$에서든 $x_n$ 표본 하나는 표본의 크기가 1인 변수이기 때문에 <br>\n",
    "모든 x들의 기댓값은 $\\bar{X}$로 전부 같습니다. 따라서,<br> \n",
    "\n",
    "표본평균 $\\bar{X}$를 충분히 큰 수 n만큼 곱했을 경우 (limit이니까요), <br>\n",
    "$ n*\\bar{X} = n\\mu$ <br>\n",
    "따라서,"
   ]
  },
  {
   "cell_type": "markdown",
   "id": "19fdb56b-8334-4eeb-b07e-c7f39d56eac9",
   "metadata": {},
   "source": [
    "$\\frac{n\\mu}{n} = \\mu$"
   ]
  },
  {
   "cell_type": "markdown",
   "id": "7515fdfe-38c3-4c1e-9a8b-10e6f30a6faa",
   "metadata": {},
   "source": [
    "---"
   ]
  },
  {
   "cell_type": "markdown",
   "id": "a0da866c-bf64-4d9a-8bfe-40d36243fdae",
   "metadata": {},
   "source": [
    "# 표본 분산의 기댓값이 모분산인 증명"
   ]
  },
  {
   "cell_type": "markdown",
   "id": "ae05b763-09cf-404b-899e-2a69ec9ecb51",
   "metadata": {},
   "source": [
    "$$E(V(X)) $$"
   ]
  },
  {
   "cell_type": "markdown",
   "id": "06cbd26d-e55a-44a1-b147-80560763e816",
   "metadata": {},
   "source": [
    "$ S^2 = \\frac{\\sum_{i=1}^{n}{(x_i-\\bar{x})^2}} {n-1} $"
   ]
  },
  {
   "cell_type": "markdown",
   "id": "6c96886a-6488-4d86-a5fa-e63441332fa5",
   "metadata": {
    "tags": []
   },
   "source": [
    "$E(S^2) = E(\\frac{\\sum_{i=1}^{n}{(x_i-\\bar{x})^2}} {n-1})$"
   ]
  },
  {
   "cell_type": "markdown",
   "id": "71726c15-1fcd-4c3f-b55e-56a923faa824",
   "metadata": {},
   "source": [
    "$ = \\frac{1}{n-1}E(\\sum_{i=1}^{n}{(x_i-\\bar{x})^2})$"
   ]
  },
  {
   "cell_type": "markdown",
   "id": "b2becd11-f588-4237-a6d1-4cae8383cf14",
   "metadata": {},
   "source": [
    "증명을 유도하기 위하여 $\\mu$를 빼고 더해줄 것입니다. <br>\n",
    "$ = \\frac{1}{n-1}E(\\sum_{i=1}^{n}{(x_i-\\mu+\\mu-\\bar{x})^2})$"
   ]
  },
  {
   "cell_type": "markdown",
   "id": "66a4eedd-e655-4394-97f9-3742d5261a1b",
   "metadata": {},
   "source": [
    "여기서 $x_i-\\mu$와 $\\mu - \\bar{x}$ 두 덩이로 생각하여 전개하겠습니다. <br>\n",
    "$ = \\frac{1}{n-1}E[\\sum_{i=1}^{n} \\{(x_i-\\mu)^2 + {2(x_i-\\bar{x}) (\\mu-\\bar{x}) + (\\mu-\\bar{x})^2 }\\}]$"
   ]
  },
  {
   "cell_type": "markdown",
   "id": "c7c10e15-211c-402d-874b-b37989694957",
   "metadata": {},
   "source": [
    "여기서 시그마에 걸리는 항(i 숫자가 들어간 항)은 시그마 처리를, <br>\n",
    "시그마에 걸리지 않은 항은 상수항 처리 하여 밖으로 빼줍니다. <br>\n",
    "마지막 항은 n을 곱해주는데요, 시그마에 영향을 받아 n만큼 곱해주어 시그마 밖으로 빼줍니다.<br>\n",
    "$ = \\frac{1}{n-1}E[\\sum_{i=1}^{n} (x_i-\\mu)^2 + 2(\\mu-\\bar{x}) \\sum_{i=1}^{n}{(x_i-\\bar{x}) + n(\\mu-\\bar{x})^2 }]$"
   ]
  },
  {
   "cell_type": "markdown",
   "id": "bb0e966a-28d6-4903-b49c-07139ced67d5",
   "metadata": {},
   "source": [
    "여기서, 표본 평균의 정의인 $n\\bar{X} = \\sum_{i=1}^{n} {x_i}$ 를 활용하여 <br>\n",
    "$\\sum_{i=1}^{n} ({x_i-\\bar{x}}) = n\\bar{X} - n\\mu = n(\\bar{X} - \\mu) $ <br>\n",
    "따라서,"
   ]
  },
  {
   "cell_type": "markdown",
   "id": "81ec4e12-05ea-4ab4-8360-942166246b76",
   "metadata": {},
   "source": [
    "$ = \\frac{1}{n-1}E[\\sum_{i=1}^{n} (x_i-\\mu)^2 + 2n (\\mu-\\bar{x})^2 + n(\\mu-\\bar{x})^2]$"
   ]
  },
  {
   "cell_type": "markdown",
   "id": "11eab1c5-b805-4e0b-b0ce-bf5c5097c85f",
   "metadata": {},
   "source": [
    "계산 할 수 있는 부분은 계산 해보죠. <br>\n",
    "제곱이기 때문에 $\\mu - \\bar{x}$의 순서를 바꿔도 됩니다."
   ]
  },
  {
   "cell_type": "markdown",
   "id": "54802eab-b7e5-43e3-843a-299af4e9a350",
   "metadata": {},
   "source": [
    "$ = \\frac{1}{n-1}E[\\sum_{i=1}^{n} (x_i-\\mu)^2 - n(\\bar{x} - \\mu)^2]$"
   ]
  },
  {
   "cell_type": "markdown",
   "id": "dec65903-7730-47dd-8cfe-73fcd0e1b76b",
   "metadata": {},
   "source": [
    "$ = \\frac{1}{n-1}[E(\\sum_{i=1}^{n} (x_i-\\mu)^2) - nE((\\bar{x} - \\mu)^2)]$ <br>\n",
    "$ E((\\bar{x} - \\mu)^2)$는 표본평균을 사용한 편차제곱의 평균이므로 **표본평균의 분산**입니다. <br>\n",
    "또한, **모분산(표본평균의 분산)** = $\\frac{\\sigma^2}{n}$ 입니다. <br>"
   ]
  },
  {
   "cell_type": "markdown",
   "id": "016cfd2b-06d0-419b-bd76-9d4272b46d75",
   "metadata": {},
   "source": [
    "여기선 위의 정의를 활용하여 <br>\n",
    "$-n \\times \\frac{\\sigma^2}{n} = -\\sigma^2$ <br>\n",
    "위와 같이 나타낼 수 있습니다."
   ]
  },
  {
   "cell_type": "markdown",
   "id": "cab2b672-2f95-4090-bdc4-c3b52442dd0f",
   "metadata": {},
   "source": [
    "$E(\\sum_{i=1}^{n} (x_i-\\mu)^2)$ <br>\n",
    "$ = E((x_1 - \\mu)^2) + E((x_2 - \\mu)^2) + \\dots + E((x_n - \\mu)^2)$"
   ]
  },
  {
   "cell_type": "markdown",
   "id": "efae5b14-45cd-451a-9c9a-884b43f734d5",
   "metadata": {},
   "source": [
    "각각의 항은 편차제곱의 평균, 즉 표본분산이므로 <br>\n",
    "이 때, $x_n$은 크기가 1입니다. <br>\n",
    "오른쪽과 같이 기댓값을 구할 때의 $x_i$는 값 하나입니다. $ E(X) = \\frac{ \\sum_{i=1}^{n}{x_i} } { n }$ <br>\n",
    "따라서, **크기가 1인(n=1) 표본의 분산 = 표본평균의 분산(모분산)** 이라고 볼 수 있습니다. <br>\n",
    "그리고 표본평균의 분산 식인 $\\frac{\\sigma^2}{n}$에 따라서 <br>\n",
    "각 항은 n이 1이기 때문에 $\\sigma^2$이며, n개의 항의 총합이기 때문에 <br>\n",
    "$n\\sigma^2$로 표현이 가능합니다."
   ]
  },
  {
   "cell_type": "markdown",
   "id": "57fe1e97-702d-4b3a-8eef-a8b253b25253",
   "metadata": {},
   "source": [
    "$ = \\frac{1}{n-1}[E(\\sum_{i=1}^{n} (x_i-\\mu)^2) - nE((\\bar{x} - \\mu)^2)]$"
   ]
  },
  {
   "cell_type": "markdown",
   "id": "98fbfeeb-613b-403a-9278-b7457931ff28",
   "metadata": {},
   "source": [
    "$ = \\frac{1}{n-1} (n\\sigma^2 -\\sigma^2)$ <br>\n",
    "$ = \\frac{1}{n-1} (n-1)\\sigma^2$ <br>\n",
    "$ = \\sigma^2 $"
   ]
  },
  {
   "cell_type": "markdown",
   "id": "efffddff-bb05-4be4-b58e-b5c3b00fd7ba",
   "metadata": {},
   "source": [
    "**따라서 표본 분산의 평균은 모분산과 같습니다.**"
   ]
  },
  {
   "cell_type": "markdown",
   "id": "eef638ef-c927-4915-8ca1-24932e8945ca",
   "metadata": {},
   "source": [
    "---"
   ]
  }
 ],
 "metadata": {
  "kernelspec": {
   "display_name": "Python 3 (ipykernel)",
   "language": "python",
   "name": "python3"
  },
  "language_info": {
   "codemirror_mode": {
    "name": "ipython",
    "version": 3
   },
   "file_extension": ".py",
   "mimetype": "text/x-python",
   "name": "python",
   "nbconvert_exporter": "python",
   "pygments_lexer": "ipython3",
   "version": "3.8.12"
  }
 },
 "nbformat": 4,
 "nbformat_minor": 5
}
