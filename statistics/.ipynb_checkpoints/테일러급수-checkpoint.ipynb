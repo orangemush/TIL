{
 "cells": [
  {
   "cell_type": "markdown",
   "id": "36d81541-eeba-4740-a668-4631f250584b",
   "metadata": {},
   "source": [
    "# 테일러 급수"
   ]
  },
  {
   "cell_type": "markdown",
   "id": "a252a60a-b73a-42dc-b378-ddc2dcc540af",
   "metadata": {},
   "source": [
    "$f(x) = \\sum_{i=1}^{n} \\frac{f^{(n)}(a)}{n!} (x-a)^n $"
   ]
  },
  {
   "cell_type": "markdown",
   "id": "86bc7d77-78b5-45e5-b4ec-8c364cba651c",
   "metadata": {},
   "source": [
    "f(x)가 사인함수이든 지수함수이든 <br>\n",
    "우리가 다루기 쉬운 다항함수로 변형해주는 식"
   ]
  }
 ],
 "metadata": {
  "kernelspec": {
   "display_name": "Python 3 (ipykernel)",
   "language": "python",
   "name": "python3"
  },
  "language_info": {
   "codemirror_mode": {
    "name": "ipython",
    "version": 3
   },
   "file_extension": ".py",
   "mimetype": "text/x-python",
   "name": "python",
   "nbconvert_exporter": "python",
   "pygments_lexer": "ipython3",
   "version": "3.8.12"
  }
 },
 "nbformat": 4,
 "nbformat_minor": 5
}
