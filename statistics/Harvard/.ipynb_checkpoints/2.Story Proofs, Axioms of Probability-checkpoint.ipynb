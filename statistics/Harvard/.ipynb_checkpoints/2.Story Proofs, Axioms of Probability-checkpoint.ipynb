{
 "cells": [
  {
   "cell_type": "markdown",
   "id": "0856df48-e156-4618-996a-a31fe485f532",
   "metadata": {},
   "source": [
    "- <div style=\"font-size:20px\"> Non-naive definition of probablity </div>\n",
    "\n",
    "    <div style=\"font-size:17px\"> 1. $P(\\phi) = 0$, $P(S) = 1$ </div>\n",
    "    <div style=\"font-size:17px\"> 2. $P(\\cup)_{n=1}^\\infty A_n$  = $\\sum_{n=1}^\\infty P(A_n) $</div>"
   ]
  },
  {
   "cell_type": "markdown",
   "id": "6fdb1d7c-1073-4039-8b4e-953ebf2aff1f",
   "metadata": {},
   "source": [
    "\n",
    "<div style=\"font-size:17px\"> 1. $P(\\phi) = 0$, $P(S) = 1$ </div>\n",
    "공리란 가장 기초가 되는 약속이다. <br>\n",
    "제 1 공리는 발생하지 않을 사건은 존재하나 발생할 확률은 0이며, 표본공간은 일어날 수 있는 사건의 전체 집합이다."
   ]
  },
  {
   "cell_type": "markdown",
   "id": "9e76d50f-9829-4f7b-8ca4-8e8f02c2c5a8",
   "metadata": {},
   "source": [
    "<div style=\"font-size:17px\"> 2. $P(\\cup)_{n=1}^\\infty A_n$  = $\\sum_{n=1}^\\infty P(A_n) $</div>"
   ]
  },
  {
   "cell_type": "markdown",
   "id": "4f27589f-8a3d-4fe4-a103-221b5cc2bdfa",
   "metadata": {},
   "source": [
    "제 2 공리는 가산 확률 공간 내에서 모든 사건의 합사건은 모든 확률의 합과 같다."
   ]
  },
  {
   "cell_type": "code",
   "execution_count": null,
   "id": "64e16ad9-753f-4f38-a9a7-6018b84276cf",
   "metadata": {},
   "outputs": [],
   "source": []
  }
 ],
 "metadata": {
  "kernelspec": {
   "display_name": "Python 3 (ipykernel)",
   "language": "python",
   "name": "python3"
  },
  "language_info": {
   "codemirror_mode": {
    "name": "ipython",
    "version": 3
   },
   "file_extension": ".py",
   "mimetype": "text/x-python",
   "name": "python",
   "nbconvert_exporter": "python",
   "pygments_lexer": "ipython3",
   "version": "3.8.10"
  }
 },
 "nbformat": 4,
 "nbformat_minor": 5
}
