{
 "cells": [
  {
   "cell_type": "markdown",
   "id": "b28043b4-355d-4345-9f64-66ceb674a76d",
   "metadata": {},
   "source": [
    "<center> <font size=\"5\"> 순열  </font></center>\n",
    "<font size=\"5\"> $$ nPr = \\frac{n!}{(n-r)!} $$ </font> <br>\n",
    "<center> <font size=\"3\"> 서로 다른 n개중에 r개를 선택하는 경우의 수 (순서 상관 O)</font></center> "
   ]
  },
  {
   "cell_type": "markdown",
   "id": "3f7be509-1b35-4a47-a7d8-f542cf8a4d27",
   "metadata": {},
   "source": [
    "$n!$은 전체 n개를 하나씩 뽑을 수 있는 모든 경우의 수이다. <br><br>\n",
    "$(n-r)!$은 선택하려는 r의 여집합(n - r)의 경우의 수를, 전체 경우의 수인 n!에서 빼준다는 개념이다. <br>\n",
    "**즉 전체에서 여집합의 경우의 수를 제외한 것이기 때문에, r개를 선택하는 경우의 수를 구할 수 있다.**"
   ]
  },
  {
   "cell_type": "code",
   "execution_count": 3,
   "id": "89873c5c-bb68-415e-a36d-d9cc4f7d8a4f",
   "metadata": {},
   "outputs": [
    {
     "name": "stdout",
     "output_type": "stream",
     "text": [
      "경우의 수 : 20\n",
      "[(1, 2), (1, 3), (1, 4), (1, 5), (2, 1), (2, 3), (2, 4), (2, 5), (3, 1), (3, 2), (3, 4), (3, 5), (4, 1), (4, 2), (4, 3), (4, 5), (5, 1), (5, 2), (5, 3), (5, 4)]\n"
     ]
    }
   ],
   "source": [
    "from itertools import permutations \n",
    "perm = permutations\n",
    "\n",
    "n, r = 5, 2\n",
    "print(f\"경우의 수 : {len(list(perm(range(1, n + 1), r)))}\")\n",
    "print(list(perm(range(1, n + 1), r)))"
   ]
  },
  {
   "cell_type": "markdown",
   "id": "0f589374-162f-4986-94c3-b9285e5a500f",
   "metadata": {},
   "source": [
    "<center> <font size=\"5\"> 조합 </font> </center>\n",
    "<font size=\"5\">$$ nCr = \\frac{n!}{(n-r)!r!} = \\frac{nPr}{r!}$$ </font> <br>\n",
    "<center> <font size=\"3\"> 서로 다른 n개 중에 r개를 선택하는 경우의 수 (순서 상관 X) </font></center>"
   ]
  },
  {
   "cell_type": "markdown",
   "id": "a6d94af7-8bb4-442d-a037-f9f0b052f6d0",
   "metadata": {},
   "source": [
    "$n!$은 전체 n개를 하나씩 뽑을 수 있는 모든 경우의 수이다. <br><br>\n",
    "$(n-r)!$은 선택하려는 r의 여집합(n - r)의 경우의 수를, 전체 경우의 수인 n!에서 빼준다는 개념이다. <br>\n",
    "$r!$은 여집합의 경우의 수$(n-r)!$를 뺀 r개의 순열($nPr$)에서, r!으로 나눔으로써 순서를 없애준다.\n"
   ]
  },
  {
   "cell_type": "code",
   "execution_count": 4,
   "id": "41418379-f331-47be-81ed-b7309f3f2ef8",
   "metadata": {},
   "outputs": [
    {
     "name": "stdout",
     "output_type": "stream",
     "text": [
      "경우의 수 : 10\n",
      "[(1, 2), (1, 3), (1, 4), (1, 5), (2, 3), (2, 4), (2, 5), (3, 4), (3, 5), (4, 5)]\n"
     ]
    }
   ],
   "source": [
    "from itertools import combinations\n",
    "comb = combinations\n",
    "n, r = 5, 2\n",
    "print(f\"경우의 수 : {len(list(comb(range(1, n + 1), r)))}\")\n",
    "print(list(comb(range(1, n + 1), r)))"
   ]
  },
  {
   "cell_type": "markdown",
   "id": "b40181cb-1d81-4e4e-ae8f-ec6338dac2d3",
   "metadata": {},
   "source": [
    "|--------|순서 상관 있음|순서 상관 없음|\n",
    "|--------|---------|-------------|\n",
    "|복원|$n^k$|$\\left(\\begin{smallmatrix} n+k-1\\\\ k \\end{smallmatrix}\\right)$|\n",
    "|비복원|$\\frac{n!}{(n-k)!}$|$\\left(\\begin{smallmatrix} n\\\\k \\end{smallmatrix}\\right)$|"
   ]
  },
  {
   "cell_type": "markdown",
   "id": "a3c38eed-3658-40fa-8c24-f66ceede9bb6",
   "metadata": {},
   "source": [
    "## $n^k$"
   ]
  },
  {
   "cell_type": "markdown",
   "id": "b7caa69b-80e6-4a52-8a9e-064fe0b5afd6",
   "metadata": {},
   "source": [
    "n=5, k=3일 때, <br>\n",
    "$n^k$의 의미는 다음과 같다. <br>\n",
    "1. 첫 번째 선택지의 개수는 5개이며 만약 1번 공을 골랐다면,\n",
    "2. 1번 공을 선택한 이후 두 번째 선택지에서 고를 수 있는 경우의 수는 5개이다.\n",
    "3. 첫 번째 때 만약 2번 공을 선택했더라도 2번째 선택지에서 선택할 수 있는 경우의 수는 5개이다. <br>\n",
    "5 + 5 + 5 + 5 + 5 = 25의 경우의 수를 가지고 있다.\n",
    "4. 이와 마찬가지로 3번째 때도 복원을 통해 5가지의 경우의 수를 가지고 있으므로 <br>\n",
    "25 + 25 + 25 + 25 + 25 = $25*5$ = 125 이다. <br>\n",
    "이것을 풀어보자면, n개 중에서 k개를 선택할 때 복원과 순서가 허용된다면 $n^k$으로 표현할 수 있다.<br>"
   ]
  },
  {
   "cell_type": "markdown",
   "id": "45248cf6-0fd8-4601-b93b-3b5ca7d5f7a7",
   "metadata": {},
   "source": [
    "## $\\frac{n!}{(n-k)!}$"
   ]
  },
  {
   "cell_type": "markdown",
   "id": "8fa082ef-9c3e-47ae-91a3-704d34e5e48a",
   "metadata": {},
   "source": [
    "$\\frac{n!}{(n-k)!}$ 의 의미는 다음과 같다. <-> $nPk$<br>\n",
    "1. $n^k$에서 비복원을 하게 된다면 <br>\n",
    "위의 경우에서 첫 번째 선택지의 개수는 5개이고 <br>\n",
    "2. 두 번째 선택지의 개수는 4개가 되고 그 다음엔 3개가 된다. <br>\n",
    "즉 n개에서 k개를 선택한다는 것은 n-k까지의 순서를 상관한 경우의 수를 구하는 것이다. <br>\n",
    "3. 따라서 $\\frac{n!}{(n-k)!}$ 과 같이 표현이 가능하다. <br>\n",
    "다르게 이야기 하자면, 전체 경우의 수에서 뽑지 않으려는 경우의 수를 제거하면 뽑으려는 경우의 수를 구하는 것과 마찬가지라고 생각해도 좋다."
   ]
  },
  {
   "cell_type": "markdown",
   "id": "98659868-f9aa-48d2-a108-c6262fcfc68c",
   "metadata": {},
   "source": [
    "## $\\left(\\begin{smallmatrix} n\\\\k \\end{smallmatrix}\\right)$"
   ]
  },
  {
   "cell_type": "markdown",
   "id": "eb8501cd-9c34-4c7b-bfe4-5ca56b5e6b59",
   "metadata": {},
   "source": [
    "$\\left(\\begin{smallmatrix} n\\\\k \\end{smallmatrix}\\right)$의 의미는 다음과 같다.\n",
    "1. $\\frac{n!}{(n-k)!}$에서 k!을 더 나눠준 $\\frac{n!}{(n-k)!k!}$의 모양과 같다.\n",
    "2. $\\frac{n!}{(n-k)!}$ 까지는 선택하지 않으려는 개수(n-k)의 순서를 상관한 경우의 수를 제거를 한 것이라면,\n",
    "3. $\\frac{n!}{(n-k)!k!}$은 순서를 상관하여 뽑은 k개의 경우의 수에서 순서를 없앤 것이다. <br>\n",
    "**(1, 2, 3), (1, 3, 2), (2, 1, 3), (2, 3, 1), (3, 1, 2), (3, 2, 1)와 같은 순서를 허용한 경우의 수에서 순서를 제거한다면<br>\n",
    "(1, 2, 3)이든 (3, 2, 1)이든 단 하나의 경우의 수만 남는다.(순서를 신경쓰지 않으니까) <br>\n",
    "즉, 방금 예시와 같은 경우에서 뽑은 개수(경우의 수가 아닌) k는 3이므로 3!으로 나누어주게 되면 하나의 값만 남게 된다.**\n",
    "<br><br>\n",
    "이러한 원리를 통해서 우리는 k개를 뽑았다면 비복원의 순서를 상관한 경우의 수인 $nPk$에서 $k!$으로 나누어주는 것이다."
   ]
  },
  {
   "cell_type": "markdown",
   "id": "22ee70aa-0771-479a-8ccd-f93687d1c771",
   "metadata": {},
   "source": [
    "## $\\left(\\begin{smallmatrix} n+k-1\\\\ k \\end{smallmatrix}\\right)$"
   ]
  },
  {
   "cell_type": "markdown",
   "id": "244f5557-6187-494f-9ef1-a4f692682a78",
   "metadata": {},
   "source": [
    "복원 O 및 순서 상관없음 <br>\n",
    "$n=7, k=3$일 때 <br> $9Ck$\n",
    "OOOOOOO"
   ]
  },
  {
   "cell_type": "markdown",
   "id": "e0b8f341-466c-48e5-9309-9096a3203cdc",
   "metadata": {},
   "source": [
    "셈 원리(Counting Principle)\n",
    "곱의 법칙:<br>\n",
    "　　　　발생 가능한 경우의 수가  $n_1, n_2, ... , n_r$ 가지인 <br>\n",
    "　　　　$r_1, r_2,...,r_n$ 번의 시행에서 <br>\n",
    "　　　　발생 가능한 모든 경우의 수는 $n_1$ * $n_2$ * ... * $n_r$\n",
    "\n",
    "\n",
    "$\\,$<br>\n",
    "$\\;$<br>\n",
    "$\\quad$<br>\n",
    "\n",
    "\n",
    "이항계수(Binomial Coefficient):\n",
    "    크기 n의 집합에서 만들 수 있는 크기 k인 부분집합의 수(순서 관계 없이)"
   ]
  },
  {
   "cell_type": "markdown",
   "id": "a1e0dd51-2919-4bcf-a897-255a52edd5fa",
   "metadata": {},
   "source": [
    "확률에서 내포하고 있는 가정(naive def):\n",
    "- 모든 사건이 발생할 확률은 같다\n",
    "- 유한한 표본공간 <br>\n",
    "항상 이 가정이 만족되는 것은 아니기 때문에 적용 불가한 경우들이 있다"
   ]
  },
  {
   "cell_type": "code",
   "execution_count": 5,
   "id": "d92858ac-9904-41b8-b137-5f6860a22439",
   "metadata": {},
   "outputs": [],
   "source": [
    "# print(len(list(perm([\"a\", \"b\", \"c\", \"d\"], 3))))"
   ]
  },
  {
   "cell_type": "markdown",
   "id": "cf25b458-68ac-4747-b1de-be2f181ba8d0",
   "metadata": {},
   "source": [
    "$n=4, k=6$<br>$\\frac{4^6}{6!}$"
   ]
  },
  {
   "cell_type": "code",
   "execution_count": 6,
   "id": "bd06d5e3-ec4b-4063-961b-ca591b4cad95",
   "metadata": {},
   "outputs": [
    {
     "data": {
      "text/plain": [
       "5.688888888888889"
      ]
     },
     "execution_count": 6,
     "metadata": {},
     "output_type": "execute_result"
    }
   ],
   "source": [
    "(4*4*4*4*4*4) / (6*5*4*3*2)"
   ]
  },
  {
   "cell_type": "markdown",
   "id": "cdd076da-8f82-45ab-aa39-be3cd3b11fce",
   "metadata": {},
   "source": [
    "9C3"
   ]
  },
  {
   "cell_type": "code",
   "execution_count": 14,
   "id": "24cc991a-933e-4fbc-bfd9-f769aeaefc80",
   "metadata": {},
   "outputs": [
    {
     "name": "stdout",
     "output_type": "stream",
     "text": [
      "경우의 수 : 84\n"
     ]
    }
   ],
   "source": [
    "n, r = 9, 3\n",
    "print(f\"경우의 수 : {len(list(comb(range(1, n + 1), r)))}\")"
   ]
  }
 ],
 "metadata": {
  "kernelspec": {
   "display_name": "Python 3 (ipykernel)",
   "language": "python",
   "name": "python3"
  },
  "language_info": {
   "codemirror_mode": {
    "name": "ipython",
    "version": 3
   },
   "file_extension": ".py",
   "mimetype": "text/x-python",
   "name": "python",
   "nbconvert_exporter": "python",
   "pygments_lexer": "ipython3",
   "version": "3.8.10"
  }
 },
 "nbformat": 4,
 "nbformat_minor": 5
}
