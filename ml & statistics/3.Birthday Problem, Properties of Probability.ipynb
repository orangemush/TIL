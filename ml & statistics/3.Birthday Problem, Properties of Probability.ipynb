{
 "cells": [
  {
   "cell_type": "markdown",
   "id": "1c63de63-54dd-435d-a004-a7427d5a5fad",
   "metadata": {},
   "source": [
    "-  k명 중에서 2명 이상이 같은 생일일 확률을 구하시오. (**일별 출생확률 동일 및  각각의 사건 독립이라 가정**)<br>\n",
    "모든 사건이 일어날 확률에서 여사건을 빼서, 해당 사건이 일어날 확률을 구합니다."
   ]
  },
  {
   "cell_type": "markdown",
   "id": "2ef2c273-c631-4230-8c39-aed3607b6cd8",
   "metadata": {},
   "source": [
    "$$ 1 - \\frac{365*364*...*(365-k+1)}{365^k} $$\n",
    "\n",
    "즉, k명의 생일이 모두 다른 경우의 수를 전부 구하고, 전체 사건 1에서 빼줍니다."
   ]
  },
  {
   "cell_type": "code",
   "execution_count": 82,
   "id": "acc4f1a4-70bc-4850-87c6-ffcc13cf5b82",
   "metadata": {},
   "outputs": [],
   "source": [
    "def birthday(k):\n",
    "    birthday_case = 365\n",
    "    year_day      = 365\n",
    "    for _ in range(k - 1):\n",
    "        birthday_case *= (year_day - 1)\n",
    "        year_day -= 1\n",
    "    return 1 - (birthday_case / (365 ** k))"
   ]
  },
  {
   "cell_type": "code",
   "execution_count": 83,
   "id": "8c4fa99a-f5c1-40e5-a747-5e943b21c5dc",
   "metadata": {},
   "outputs": [
    {
     "name": "stdout",
     "output_type": "stream",
     "text": [
      "0.5072972343239854\n",
      "0.9703735795779884\n",
      "0.9999999999999999\n"
     ]
    }
   ],
   "source": [
    "print(birthday(23))\n",
    "print(birthday(50))\n",
    "print(birthday(152))"
   ]
  },
  {
   "cell_type": "markdown",
   "id": "1fa1dba9-1811-4071-9a58-70a4bc18b02e",
   "metadata": {},
   "source": [
    "k명"
   ]
  },
  {
   "cell_type": "code",
   "execution_count": 84,
   "id": "d7cb53bc-849b-4c93-aa3b-e862a1397efd",
   "metadata": {},
   "outputs": [
    {
     "name": "stdout",
     "output_type": "stream",
     "text": [
      "경우의 수 : 253\n"
     ]
    }
   ],
   "source": [
    "from itertools import combinations\n",
    "\n",
    "n, r = 23, 2\n",
    "print(f\"경우의 수 : {len(list(combinations(range(1, n + 1), r)))}\")"
   ]
  },
  {
   "cell_type": "markdown",
   "id": "a556d5ba-cbe3-4b94-83fc-26d8af1aad32",
   "metadata": {},
   "source": [
    "- <div style=\"font-size:20px\"> Non-naive definition of probablity </div>\n",
    "\n",
    "    <div style=\"font-size:17px\"> 1. $P(\\phi) = 0$, $P(S) = 1$ </div>\n",
    "    <div style=\"font-size:17px\"> 2. $P(\\cup)_{n=1}^\\infty A_n$  = $\\sum_{n=1}^\\infty P(A_n) $</div>"
   ]
  },
  {
   "cell_type": "markdown",
   "id": "3dede956-8faf-4219-8bb1-0c87d1486fec",
   "metadata": {},
   "source": [
    "확률의 특징은 소박한 집합론(흔히 아는 중고등학생 때 배우는 집합)을 따릅니다. <br>\n",
    "$P(A^{C}) = 1 - P(A)$와 같은 모든 집합 공식이 위 2개의 공리를 통해 증명이 가능합니다."
   ]
  },
  {
   "cell_type": "markdown",
   "id": "56842786-4b2a-438b-bc55-58fc2feb4bbc",
   "metadata": {},
   "source": [
    "포함배제의 원리"
   ]
  },
  {
   "cell_type": "code",
   "execution_count": null,
   "id": "5349c8d4-f5ee-46d3-856d-66a22cc8813d",
   "metadata": {},
   "outputs": [],
   "source": []
  }
 ],
 "metadata": {
  "kernelspec": {
   "display_name": "Python 3 (ipykernel)",
   "language": "python",
   "name": "python3"
  },
  "language_info": {
   "codemirror_mode": {
    "name": "ipython",
    "version": 3
   },
   "file_extension": ".py",
   "mimetype": "text/x-python",
   "name": "python",
   "nbconvert_exporter": "python",
   "pygments_lexer": "ipython3",
   "version": "3.8.10"
  }
 },
 "nbformat": 4,
 "nbformat_minor": 5
}
