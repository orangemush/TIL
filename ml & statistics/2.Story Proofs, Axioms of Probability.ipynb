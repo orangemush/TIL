{
 "cells": [
  {
   "cell_type": "markdown",
   "id": "937b6951-c17a-4b5a-891c-4cdcfd25bec2",
   "metadata": {},
   "source": [
    "$$ \\left(\\begin{smallmatrix} m + n\\\\ k \\end{smallmatrix}\\right)= \n",
    "\\sum_{j=0}^k \\left(\\begin{smallmatrix} m\\\\j \\end{smallmatrix}\\right)\n",
    "\\left(\\begin{smallmatrix} n\\\\k-j \\end{smallmatrix}\\right)\n",
    "$$"
   ]
  },
  {
   "cell_type": "code",
   "execution_count": null,
   "id": "37e7ac11-a609-4e06-8490-f43bfd7e4309",
   "metadata": {},
   "outputs": [],
   "source": [
    "n + k - 1"
   ]
  },
  {
   "cell_type": "code",
   "execution_count": null,
   "id": "cf5ec2c5-7bcc-4cc7-b272-ffcafcebf8b7",
   "metadata": {},
   "outputs": [],
   "source": []
  },
  {
   "cell_type": "code",
   "execution_count": null,
   "id": "818a6603-9c15-4047-8ac2-7f9d04427f71",
   "metadata": {},
   "outputs": [],
   "source": []
  },
  {
   "cell_type": "code",
   "execution_count": null,
   "id": "30032537-a54d-4816-bec6-5addffcbad06",
   "metadata": {},
   "outputs": [],
   "source": []
  },
  {
   "cell_type": "code",
   "execution_count": null,
   "id": "90bf7645-77b0-490a-8ded-05b45f6baa2a",
   "metadata": {},
   "outputs": [],
   "source": []
  },
  {
   "cell_type": "markdown",
   "id": "f742f468-09bc-4097-a0f5-be9a16da610f",
   "metadata": {},
   "source": [
    "$\\left(\\begin{smallmatrix} \n",
    "1 & 2 & \\cdots & n\\\\\n",
    "i_1 & i_2 & \\cdots & i_n\n",
    "\\end{smallmatrix}\\right)$.\n",
    "\n",
    "$\\left(\\begin{smallmatrix} \n",
    "m + n\\\\\n",
    "k\n",
    "\\end{smallmatrix}\\right)$."
   ]
  },
  {
   "cell_type": "code",
   "execution_count": null,
   "id": "12f5ac0d-6b2a-4ae9-bcfc-e43edd71b63f",
   "metadata": {},
   "outputs": [],
   "source": []
  }
 ],
 "metadata": {
  "kernelspec": {
   "display_name": "Python 3 (ipykernel)",
   "language": "python",
   "name": "python3"
  },
  "language_info": {
   "codemirror_mode": {
    "name": "ipython",
    "version": 3
   },
   "file_extension": ".py",
   "mimetype": "text/x-python",
   "name": "python",
   "nbconvert_exporter": "python",
   "pygments_lexer": "ipython3",
   "version": "3.8.10"
  }
 },
 "nbformat": 4,
 "nbformat_minor": 5
}
