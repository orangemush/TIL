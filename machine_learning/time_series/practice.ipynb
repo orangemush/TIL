{
 "cells": [
  {
   "cell_type": "markdown",
   "id": "820d89b3-2f08-4eb5-8f39-1b777be87cc1",
   "metadata": {},
   "source": [
    "<!-- 딥러닝은 다 비슷한데 왜 시계열만 다르냐?\n",
    "시계열의 특징들이 중요 -->"
   ]
  },
  {
   "cell_type": "code",
   "execution_count": null,
   "id": "7930f934-66bc-4f3d-848b-0a3cc6f6be39",
   "metadata": {},
   "outputs": [],
   "source": [
    "# 명시적 프로그래밍\n",
    "\n",
    "# 딥러닝의 개념\n",
    "# 입력값의 조합의 연속(키, 몸무게 -> BMI, any1, any2 -> ...)\n",
    "\n",
    "# 결정론, 생성론\n",
    "# Decision boundary, Probablity distributions of the data\n",
    "# GAN, bayes, autoencoder"
   ]
  },
  {
   "cell_type": "code",
   "execution_count": null,
   "id": "fd5461bc-d207-4875-92da-537d00899028",
   "metadata": {},
   "outputs": [],
   "source": [
    "# 과거의 데이터가 현재의 데이터를 설명할 수 있어야\n",
    "# RNN rㅖ열의 알고리즘을 사용 가능\n",
    "\n",
    "# 대부분의 시계열 데이터는 과거 데이터로 미래 데이터를 맞추기 어렵습니다.\n",
    "# 선 후행 관계를 명확하게 구분짓고 넘어간다. (선후행 확인법: 공적분)\n",
    "\n",
    "# 시계열원 보통 1-d signal, CNN은 이미지 처리기 때문에 2d signal\n",
    "\n",
    "# CNN 계열의 알고리즘은\n",
    "# 하나하나가 아닌 부분들을 인식하는 알고리즘이다.\n",
    "\n",
    "# LSTM을 했을 때 주의할 점: Lagging이 발생하는지 확인한다(실제 값의 라인 그래프와, 예측 라인 그래프 비교)"
   ]
  }
 ],
 "metadata": {
  "kernelspec": {
   "display_name": "Python 3 (ipykernel)",
   "language": "python",
   "name": "python3"
  },
  "language_info": {
   "codemirror_mode": {
    "name": "ipython",
    "version": 3
   },
   "file_extension": ".py",
   "mimetype": "text/x-python",
   "name": "python",
   "nbconvert_exporter": "python",
   "pygments_lexer": "ipython3",
   "version": "3.8.12"
  }
 },
 "nbformat": 4,
 "nbformat_minor": 5
}
