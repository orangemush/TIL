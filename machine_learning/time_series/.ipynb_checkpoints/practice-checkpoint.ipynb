{
 "cells": [
  {
   "cell_type": "markdown",
   "id": "820d89b3-2f08-4eb5-8f39-1b777be87cc1",
   "metadata": {},
   "source": [
    "<!-- 딥러닝은 다 비슷한데 왜 시계열만 다르냐?\n",
    "시계열의 특징들이 중요 -->"
   ]
  },
  {
   "cell_type": "code",
   "execution_count": null,
   "id": "fd5461bc-d207-4875-92da-537d00899028",
   "metadata": {},
   "outputs": [],
   "source": [
    "# 과거의 데이터가 현재의 데이터를 설명할 수 있어야\n",
    "# RNN 계열의 알고리즘을 사용 가능\n",
    "\n",
    "# 대부분의 시계열 데이터는 과거 데이터로 미래 데이터를 맞추기 어렵습니다.\n",
    "# 선 후행 관계를 명확하게 구분짓고 넘어간다. (선후행 확인법: 공적분)\n",
    "\n",
    "# 시계열원 보통 1-d signal, CNN은 이미지 처리기 때문에 2d signal\n",
    "\n",
    "# CNN 계열의 알고리즘은\n",
    "# 하나하나가 아닌 부분들을 인식하는 알고리즘이다.\n",
    "\n",
    "# LSTM을 했을 때 주의할 점: Lagging이 발생하는지 확인한다(실제 값의 라인 그래프와, 예측 라인 그래프 비교)"
   ]
  },
  {
   "cell_type": "code",
   "execution_count": null,
   "id": "6e037cc3-f5ce-4c04-83ea-9bf4f9622fb7",
   "metadata": {},
   "outputs": [],
   "source": [
    "# 명시적 프로그래밍\n",
    "\n",
    "# 딥러닝의 개념\n",
    "# 입력값의 조합의 연속(키, 몸무게 -> BMI, any1, any2 -> ...)\n",
    "\n",
    "# 결정론, 생성론\n",
    "# Decision boundary, Probablity distributions of the data\n",
    "# GAN, bayes, autoencoder"
   ]
  },
  {
   "cell_type": "code",
   "execution_count": null,
   "id": "4ab858d5-1ea0-4c14-a8ba-e4aa85431ac1",
   "metadata": {},
   "outputs": [],
   "source": [
    "일반적인 데이터의 모델 입/출력을 수학적으로 표현?\n",
    "f(x) = y\n",
    "\n",
    "시계열 데이터의 모델 입/출력을 수학적으로 표현하면?\n",
    "f(x) = y, when t = 0\n",
    "f(x) = z, when t = 1\n",
    "\n",
    "\n",
    "시계열은 \n",
    "단순한 문제는 단순한 모형으로 풀어야 합니다.(ARIMA, Prophet)\n",
    "\n",
    "RNN을 사용할 때 전제 충족/정상화 둘 중 하나로 처리 해야함\n",
    "\n",
    "CNN(Convolutional)(이미지 처리에 특화, 부분을 인식함)\n",
    "CNN - LSTM 하이브리드\n",
    "Seq2Seq 아키텍처(모델이 두 개가 있는 아키텍처)\n",
    "\n",
    "시계열 데이터 변환의 의미는  입력데이터와 관계를 만들어내는 과정\n",
    "딥러닝으로 그걸 찾는 것 Encodr state(입력데이터와의 관계 데이터)\n",
    "변환과정을 딥러닝(Encoder state)이 대신 해주는\n",
    "Encoder state를 만드는 과정이 파워풀한 것\n",
    "GRU란"
   ]
  },
  {
   "cell_type": "code",
   "execution_count": null,
   "id": "e66de97c-7a63-475e-b063-e3ded9fa3d89",
   "metadata": {},
   "outputs": [],
   "source": [
    "AWS Forecast\n",
    "\n",
    "Deterministic Forecasting \n",
    "Probabilistic Forecasting(DeepAR)\n",
    "    확률론적 계열의 알고리즘\n",
    "    Encoder, Decoder계열을 활용한 알고리즘\n",
    "    \n",
    "likelihood 출력의 분포\n",
    "가우시안 분포(정규분포)\n",
    "음이항분포\n",
    "\n",
    "CNN/RNN/Seq2Seq/Probabilistic Forecasting 이 4가지에서 크게 벗어나지 않습니다."
   ]
  }
 ],
 "metadata": {
  "kernelspec": {
   "display_name": "Python 3 (ipykernel)",
   "language": "python",
   "name": "python3"
  },
  "language_info": {
   "codemirror_mode": {
    "name": "ipython",
    "version": 3
   },
   "file_extension": ".py",
   "mimetype": "text/x-python",
   "name": "python",
   "nbconvert_exporter": "python",
   "pygments_lexer": "ipython3",
   "version": "3.8.12"
  }
 },
 "nbformat": 4,
 "nbformat_minor": 5
}
